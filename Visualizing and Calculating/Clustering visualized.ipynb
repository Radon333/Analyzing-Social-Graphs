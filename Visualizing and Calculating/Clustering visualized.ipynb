{
 "cells": [
  {
   "cell_type": "code",
   "execution_count": 2,
   "metadata": {
    "scrolled": true
   },
   "outputs": [
    {
     "name": "stdout",
     "output_type": "stream",
     "text": [
      "edges = 88234\n",
      "nodes = 4039\n",
      "edge probabilty 0.010819963503439287\n",
      "fb_acc = 0.6055467186200876\n",
      "rgraph_edges = 88289\n",
      "rgraph_nodes = 4039\n",
      "rgraph_acc = 0.01074512560363489\n",
      "Visualizing G_fb\n",
      "\n",
      "\n",
      "\n",
      "\n",
      "Visualizing G_rand\n",
      "\n",
      "\n"
     ]
    },
    {
     "data": {
      "image/png": "[encoded data removed]",
      "text/plain": [
       "<Figure size 432x288 with 1 Axes>"
      ]
     },
     "metadata": {},
     "output_type": "display_data"
    }
   ],
   "source": [
    "import networkx as nx;\n",
    "from random import random;\n",
    "import numpy as np;\n",
    "import matplotlib.pyplot as plt\n",
    "\n",
    "# Read data from the dataset, and create graph G_fb\n",
    "G_fb = nx.read_edgelist(\"facebook_combined.txt\", create_using = nx.Graph(), nodetype=int);\n",
    "\n",
    "# Show the number of edges in G_fb\n",
    "print(\"edges = \" + str(G_fb.number_of_edges()));\n",
    "edg=G_fb.number_of_edges();\n",
    "\n",
    "# Show number of nodes in G_fb\n",
    "print(\"nodes = \" + str(G_fb.number_of_nodes()));\n",
    "nod=G_fb.number_of_nodes();\n",
    "\n",
    "\n",
    "#calculated maximum number of edges possible\n",
    "maxedg=((nod*(nod-1))/2);\n",
    "\n",
    "# TASK1. Now your task is to compute the probability whether there is an edge between two vertices.\n",
    "# edge_probab = ...\n",
    "#Task 1\n",
    "p=(edg/maxedg);\n",
    "print(\"edge probabilty \" + str(p));\n",
    "\n",
    "# TASK2. Compute the ACC (average clustering coefficient) of G_fb\n",
    "# (consult the NetworkX manual or the video lecture for the correct function which does it)\n",
    "# av_clust_coeff =  ...\n",
    "#Task 2\n",
    "\n",
    "acc_fb = nx.average_clustering(G_fb);\n",
    "print(\"fb_acc = \" + str(acc_fb));\n",
    "\n",
    "\n",
    "\n",
    "# Now we have to generate a random graph. First we initialize it\n",
    "G_rand = nx.Graph();\n",
    "\n",
    "# TASK3. generate edges in G_rand at random:\n",
    "G_rand=nx.erdos_renyi_graph(nod,p,seed=None ,directed=False);\n",
    "\n",
    "# Now we print out the number of edges and the ACC of the new graph\n",
    "print(\"rgraph_edges = \" + str(G_rand.number_of_edges()));\n",
    "       \n",
    "print(\"rgraph_nodes = \" + str(G_rand.number_of_nodes()));   \n",
    "    \n",
    "# av_clust_coeff = ...\n",
    "acc_rand = nx.average_clustering(G_rand); \n",
    "print(\"rgraph_acc = \" + str(acc_rand));\n",
    "\n",
    "# The results which should be submitted to the grader include the ACC of G_fb and of G_rand. Good luck!\n",
    "#drawing graph\n",
    "print(\"Visualizing G_fb\");\n",
    "print(\"\");\n",
    "print(\"\");\n",
    "nx.draw(G_fb);\n",
    "plt.savefig(\"G_fb.png\");\n",
    "print(\"\");\n",
    "print(\"\");\n",
    "print(\"Visualizing G_rand\");\n",
    "print(\"\");\n",
    "print(\"\");\n",
    "nx.draw(G_rand);\n",
    "plt.savefig(\"G_rand.png\");\n"
   ]
  },
  {
   "cell_type": "code",
   "execution_count": null,
   "metadata": {},
   "outputs": [],
   "source": []
  }
 ],
 "metadata": {
  "kernelspec": {
   "display_name": "Python 3",
   "language": "python",
   "name": "python3"
  },
  "language_info": {
   "codemirror_mode": {
    "name": "ipython",
    "version": 3
   },
   "file_extension": ".py",
   "mimetype": "text/x-python",
   "name": "python",
   "nbconvert_exporter": "python",
   "pygments_lexer": "ipython3",
   "version": "3.8.6"
  }
 },
 "nbformat": 4,
 "nbformat_minor": 2
}
